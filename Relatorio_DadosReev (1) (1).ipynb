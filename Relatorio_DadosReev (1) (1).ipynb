{
 "cells": [
  {
   "cell_type": "markdown",
   "metadata": {
    "id": "GutlEzQCt4b9"
   },
   "source": [
    "## Relatório com informações sobre os dados do Reev"
   ]
  },
  {
   "cell_type": "raw",
   "metadata": {},
   "source": [
    "<script>\n",
    "  function code_toggle() {\n",
    "    if (code_shown){\n",
    "      $('div.input').hide('500');\n",
    "      $('#toggleButton').val('Show Code')\n",
    "    } else {\n",
    "      $('div.input').show('500');\n",
    "      $('#toggleButton').val('Hide Code')\n",
    "    }\n",
    "    code_shown = !code_shown\n",
    "  }\n",
    "\n",
    "  $( document ).ready(function(){\n",
    "    code_shown=false;\n",
    "    $('div.input').hide()\n",
    "  });\n",
    "</script>\n",
    "<form action=\"javascript:code_toggle()\"><input type=\"submit\" id=\"toggleButton\" value=\"Show Code\"></form>"
   ]
  },
  {
   "cell_type": "code",
   "execution_count": null,
   "metadata": {
    "id": "FuYZEZi6tuzV"
   },
   "outputs": [],
   "source": [
    "# Import dos módulos\n",
    "import pandas as pd\n",
    "import datetime\n",
    "import matplotlib.pyplot as plt\n",
    "%matplotlib inline"
   ]
  },
  {
   "cell_type": "markdown",
   "metadata": {
    "id": "PTYNqLbrt6ki"
   },
   "source": [
    "### ETAPA 1 - Importação dos dados\n",
    "A planilha importada abaixo contém os dados sem alteração (Sheet1), os dados errados (Erros) e os dados corretos (Corretos). <br>\n",
    "OBS.: Os dados corretos e errados foram separados no excel."
   ]
  },
  {
   "cell_type": "code",
   "execution_count": null,
   "metadata": {
    "id": "_-ijDfztt__5"
   },
   "outputs": [],
   "source": [
    "# Importando a tabela com os dados corretos e errados\n",
    "erros = pd.read_excel(\"/content/drive/MyDrive/Dados-Reev/contatosTotal.xlsx\", index_col=(0), sheet_name=\"Erros\", parse_dates=[\"created_at\"])\n",
    "corretos = pd.read_excel(\"/content/drive/MyDrive/Dados-Reev/contatosTotal.xlsx\", index_col=(0), sheet_name=\"Corretos\")"
   ]
  },
  {
   "cell_type": "code",
   "execution_count": null,
   "metadata": {
    "colab": {
     "base_uri": "https://localhost:8080/"
    },
    "id": "J9t7ByRK8RwQ",
    "outputId": "f9c4fc5c-d2db-43bd-a4fc-7755f88d9665"
   },
   "outputs": [
    {
     "name": "stdout",
     "output_type": "stream",
     "text": [
      "              id first_name  ... contact_group.name contact_group.company_id\n",
      "Coluna1                      ...                                            \n",
      "1288     4487715      Lucio  ...                NaN                      NaN\n",
      "1304     4478334     Marcia  ...                NaN                      NaN\n",
      "1876     4447817      Bruno  ...                  .                    310.0\n",
      "2385     4447308   Anderson  ...                  .                    310.0\n",
      "2837     4389893      Mario  ...                NaN                      NaN\n",
      "...          ...        ...  ...                ...                      ...\n",
      "323182   2962532      Tommy  ...                NaN                      NaN\n",
      "324191   2790372    Marcelo  ...                NaN                      NaN\n",
      "324192   2790371      Sarah  ...                NaN                      NaN\n",
      "324325   2744166   Graziela  ...                NaN                      NaN\n",
      "325702   2101696  Jeisianne  ...                NaN                      NaN\n",
      "\n",
      "[184292 rows x 50 columns]\n"
     ]
    }
   ],
   "source": [
    "print(erros)"
   ]
  },
  {
   "cell_type": "markdown",
   "metadata": {
    "id": "hrtlBNChAv8X"
   },
   "source": [
    "**Percebe-se que na tabela de valores errados existem 184292 linhas e 50 colunas.**"
   ]
  },
  {
   "cell_type": "code",
   "execution_count": null,
   "metadata": {
    "colab": {
     "base_uri": "https://localhost:8080/"
    },
    "id": "q4vklHepArK7",
    "outputId": "ba91e5b8-3ae4-425f-9f85-312084b543ef"
   },
   "outputs": [
    {
     "name": "stdout",
     "output_type": "stream",
     "text": [
      "              id  ... flow.semi_automatic\n",
      "Coluna1           ...                    \n",
      "0        4754029  ...                 0.0\n",
      "1        4754028  ...                 0.0\n",
      "2        4754027  ...                 0.0\n",
      "3        4754026  ...                 0.0\n",
      "4        4754025  ...                 0.0\n",
      "...          ...  ...                 ...\n",
      "321183   3296265  ...                 NaN\n",
      "321204   3296244  ...                 NaN\n",
      "324197   2790366  ...                 NaN\n",
      "324209   2790353  ...                 NaN\n",
      "324267   2744224  ...                 NaN\n",
      "\n",
      "[141967 rows x 46 columns]\n"
     ]
    }
   ],
   "source": [
    "print(corretos)"
   ]
  },
  {
   "cell_type": "markdown",
   "metadata": {
    "id": "5Qxf-mA5A3OG"
   },
   "source": [
    "**Já na tabela de valores corretos existem 141967 linhas e 46 colunas. Lembrando que os dados foram coletados no dia 07/04, portanto a quantidade de linhas refere-se a uma imagem do Reev no dia de coleta.**"
   ]
  },
  {
   "cell_type": "markdown",
   "metadata": {
    "id": "DDpGu87nByHn"
   },
   "source": [
    "### ETAPA 2 - Seleção dos dados errados em 2018 e 2019"
   ]
  },
  {
   "cell_type": "markdown",
   "metadata": {
    "id": "nWbK-srxCA5G"
   },
   "source": [
    "A primeira coisa a ser feita para selecionar 2018 e 2019 é extrair a informação de ano da coluna 'created_at'. <br>\n",
    "Abaixo é possível visualizar a coluna."
   ]
  },
  {
   "cell_type": "code",
   "execution_count": null,
   "metadata": {
    "colab": {
     "base_uri": "https://localhost:8080/"
    },
    "id": "F_qBbfuRAugk",
    "outputId": "66bfce2d-8f1f-46f9-9ec8-2f86eb5bbc8d"
   },
   "outputs": [
    {
     "name": "stdout",
     "output_type": "stream",
     "text": [
      "Coluna1\n",
      "1288      2021-02-25 16:19:42.856000\n",
      "1304      2021-02-23 13:35:24.223000\n",
      "1876      2021-02-16 14:03:37.133000\n",
      "2385      2021-02-16 14:03:28.709000\n",
      "2837      2021-02-02 16:22:58.847000\n",
      "                     ...            \n",
      "323182    2020-01-24 12:15:33.695000\n",
      "324191    2019-11-26 16:38:21.354000\n",
      "324192    2019-11-26 16:38:21.145000\n",
      "324325    2019-11-13 16:09:33.913000\n",
      "325702    2019-06-03 11:39:06.672000\n",
      "Name: created_at, Length: 184292, dtype: object\n"
     ]
    }
   ],
   "source": [
    "print(erros[\"created_at\"])"
   ]
  },
  {
   "cell_type": "markdown",
   "metadata": {
    "id": "AP_Jy4CCCv9G"
   },
   "source": [
    "**Após a extração do ano, as colunas ficam como abaixo.**"
   ]
  },
  {
   "cell_type": "code",
   "execution_count": null,
   "metadata": {
    "id": "u0ZA2ahLLxTJ"
   },
   "outputs": [],
   "source": [
    "erros[\"Ano\"] = erros[\"created_at\"].dt.year"
   ]
  },
  {
   "cell_type": "code",
   "execution_count": null,
   "metadata": {
    "colab": {
     "base_uri": "https://localhost:8080/"
    },
    "id": "-ERf8-B3p0o0",
    "outputId": "0bb0662d-e1fc-4ed6-b338-2e0270f0a16c"
   },
   "outputs": [
    {
     "name": "stdout",
     "output_type": "stream",
     "text": [
      "                     created_at   Ano\n",
      "Coluna1                              \n",
      "1288    2021-02-25 16:19:42.856  2021\n",
      "1304    2021-02-23 13:35:24.223  2021\n",
      "1876    2021-02-16 14:03:37.133  2021\n",
      "2385    2021-02-16 14:03:28.709  2021\n",
      "2837    2021-02-02 16:22:58.847  2021\n",
      "...                         ...   ...\n",
      "323182  2020-01-24 12:15:33.695  2020\n",
      "324191  2019-11-26 16:38:21.354  2019\n",
      "324192  2019-11-26 16:38:21.145  2019\n",
      "324325  2019-11-13 16:09:33.913  2019\n",
      "325702  2019-06-03 11:39:06.672  2019\n",
      "\n",
      "[184292 rows x 2 columns]\n"
     ]
    }
   ],
   "source": [
    "print(erros[[\"created_at\", \"Ano\"]])"
   ]
  },
  {
   "cell_type": "markdown",
   "metadata": {
    "id": "Nu4fRS4IqPHw"
   },
   "source": [
    "**A tabela com as informações de 2018 e 2019 é mostrada a seguir e em seguida foi exportada para excel, no arquivo: erros_2018_2019.**"
   ]
  },
  {
   "cell_type": "code",
   "execution_count": null,
   "metadata": {
    "id": "Ngic4TcgqDR8"
   },
   "outputs": [],
   "source": [
    "anos = [2018, 2019]\n",
    "erros_2018_2019 = erros.loc[erros[\"Ano\"].isin(anos)]"
   ]
  },
  {
   "cell_type": "code",
   "execution_count": null,
   "metadata": {
    "colab": {
     "base_uri": "https://localhost:8080/"
    },
    "id": "3G7s_odbFbi-",
    "outputId": "9d033c86-5db6-4a5c-9e04-fb995b521175"
   },
   "outputs": [
    {
     "name": "stdout",
     "output_type": "stream",
     "text": [
      "              id first_name  ... contact_group.company_id   Ano\n",
      "Coluna1                      ...                               \n",
      "24911    2858689      M·rio  ...                      NaN  2019\n",
      "24912    2858688     Rafael  ...                      NaN  2019\n",
      "24913    2858687    Marcelo  ...                      NaN  2019\n",
      "24914    2858686    Geraldo  ...                      NaN  2019\n",
      "24915    2858685      Adeon  ...                      NaN  2019\n",
      "...          ...        ...  ...                      ...   ...\n",
      "261440   2634122     Daniel  ...                      NaN  2019\n",
      "324191   2790372    Marcelo  ...                      NaN  2019\n",
      "324192   2790371      Sarah  ...                      NaN  2019\n",
      "324325   2744166   Graziela  ...                      NaN  2019\n",
      "325702   2101696  Jeisianne  ...                      NaN  2019\n",
      "\n",
      "[34863 rows x 51 columns]\n"
     ]
    }
   ],
   "source": [
    "print(erros_2018_2019)"
   ]
  },
  {
   "cell_type": "code",
   "execution_count": null,
   "metadata": {
    "colab": {
     "base_uri": "https://localhost:8080/"
    },
    "id": "SZodBUW2rw8O",
    "outputId": "8c4a36d0-0adf-4aeb-f241-e502a628c39a"
   },
   "outputs": [
    {
     "data": {
      "text/plain": [
       "array([2019, 2018])"
      ]
     },
     "execution_count": 77,
     "metadata": {
      "tags": []
     },
     "output_type": "execute_result"
    }
   ],
   "source": [
    "# Confirmando se só existem valores iguais a 2018 e 2019\n",
    "erros_2018_2019[\"Ano\"].unique()"
   ]
  },
  {
   "cell_type": "code",
   "execution_count": null,
   "metadata": {
    "id": "FzjfcgUjsIEF"
   },
   "outputs": [],
   "source": [
    "# Importando a tabela para excel\n",
    "erros_2018_2019.to_excel(\"/content/drive/MyDrive/Dados-Reev/erros_2018_2019.xlsx\")"
   ]
  },
  {
   "cell_type": "markdown",
   "metadata": {
    "id": "QLhHcGA3su_i"
   },
   "source": [
    "### ETAPA 3 - Trabalhando com os dados errados de 2020 e 2021"
   ]
  },
  {
   "cell_type": "markdown",
   "metadata": {
    "id": "FJkuDa-itb1L"
   },
   "source": [
    "A tabela com os dados errados de 2020 e 2021 pode ser visualizada abaixo. <br> \n",
    "Também será exportada para excel como: erros_2020_2021"
   ]
  },
  {
   "cell_type": "code",
   "execution_count": null,
   "metadata": {
    "id": "4PIHVXQdtV5y"
   },
   "outputs": [],
   "source": [
    "anos = [2020, 2021]\n",
    "erros_2020_2021 = erros.loc[erros[\"Ano\"].isin(anos)]"
   ]
  },
  {
   "cell_type": "code",
   "execution_count": null,
   "metadata": {
    "colab": {
     "base_uri": "https://localhost:8080/"
    },
    "id": "zC6OLDtjty2Z",
    "outputId": "cc217763-a793-4c36-96b0-697d9c85bce0"
   },
   "outputs": [
    {
     "name": "stdout",
     "output_type": "stream",
     "text": [
      "              id first_name  ... contact_group.company_id   Ano\n",
      "Coluna1                      ...                               \n",
      "1288     4487715      Lucio  ...                      NaN  2021\n",
      "1304     4478334     Marcia  ...                      NaN  2021\n",
      "1876     4447817      Bruno  ...                    310.0  2021\n",
      "2385     4447308   Anderson  ...                    310.0  2021\n",
      "2837     4389893      Mario  ...                      NaN  2021\n",
      "...          ...        ...  ...                      ...   ...\n",
      "323038   2993452     Marcos  ...                      NaN  2020\n",
      "323064   2993426      Renan  ...                      NaN  2020\n",
      "323084   2993406      Lucia  ...                      NaN  2020\n",
      "323166   2962548     Sergio  ...                      NaN  2020\n",
      "323182   2962532      Tommy  ...                      NaN  2020\n",
      "\n",
      "[149429 rows x 51 columns]\n"
     ]
    }
   ],
   "source": [
    "print(erros_2020_2021)"
   ]
  },
  {
   "cell_type": "markdown",
   "metadata": {
    "id": "ZSPYDR-UvraH"
   },
   "source": [
    "### Sumarizando os dados por status"
   ]
  },
  {
   "cell_type": "markdown",
   "metadata": {
    "id": "oOLeanOj4o3M"
   },
   "source": [
    "**O gráfico a seguir retorna os valores de status e a quantidade de contatos correspondente a cada status.**"
   ]
  },
  {
   "cell_type": "code",
   "execution_count": 131,
   "metadata": {
    "colab": {
     "base_uri": "https://localhost:8080/",
     "height": 729
    },
    "id": "Mo6gVg6Ux-fK",
    "outputId": "47877d52-9150-4f2d-a328-3e150c8df554"
   },
   "outputs": [
    {
     "data": {
      "text/plain": [
       "<matplotlib.axes._subplots.AxesSubplot at 0x7f7c7baab350>"
      ]
     },
     "execution_count": 131,
     "metadata": {
      "tags": []
     },
     "output_type": "execute_result"
    },
    {
     "data": {
      "image/png": "[encoded data removed]",
      "text/plain": [
       "<Figure size 864x720 with 1 Axes>"
      ]
     },
     "metadata": {
      "needs_background": "light",
      "tags": []
     },
     "output_type": "display_data"
    }
   ],
   "source": [
    "plt.figure(figsize = (12, 10))\n",
    "erros_2020_2021.groupby([\"recipient_status\"]).recipient_status.count().sort_values().plot(kind = 'bar')"
   ]
  },
  {
   "cell_type": "markdown",
   "metadata": {
    "id": "x6FNO92v4yQg"
   },
   "source": [
    "**Abaixo estão os valores absolutos dos dados referentes ao gráfico anterior.**"
   ]
  },
  {
   "cell_type": "code",
   "execution_count": null,
   "metadata": {
    "colab": {
     "base_uri": "https://localhost:8080/"
    },
    "id": "GBMRTOTgt0nE",
    "outputId": "f91c3e16-90ae-4a06-be5d-2ff0fcc55872"
   },
   "outputs": [
    {
     "data": {
      "text/plain": [
       "recipient_status\n",
       "scheduled_reactivation        3\n",
       "paused                       15\n",
       "converting                  165\n",
       "disqualified                306\n",
       "interrupted                 639\n",
       "blocklisted                1886\n",
       "active                     3132\n",
       "connected                 12237\n",
       "bounced                   13004\n",
       "uninitialized             21256\n",
       "not_connected             26487\n",
       "inactive                  70299\n",
       "Name: recipient_status, dtype: int64"
      ]
     },
     "execution_count": 129,
     "metadata": {
      "tags": []
     },
     "output_type": "execute_result"
    }
   ],
   "source": [
    "erros_2020_2021.groupby([\"recipient_status\"]).recipient_status.count().sort_values()"
   ]
  },
  {
   "cell_type": "markdown",
   "metadata": {
    "id": "R4rDAdMF5Hvw"
   },
   "source": [
    "**Dos resultados inativos, a distribuição dos contatos é vista a seguir.**"
   ]
  },
  {
   "cell_type": "code",
   "execution_count": 132,
   "metadata": {
    "colab": {
     "base_uri": "https://localhost:8080/",
     "height": 682
    },
    "id": "OkSc_Ktw5Qq2",
    "outputId": "960df2fc-dfdc-48a5-d421-e727266c6491"
   },
   "outputs": [
    {
     "data": {
      "text/plain": [
       "<matplotlib.axes._subplots.AxesSubplot at 0x7f7c7ba8c6d0>"
      ]
     },
     "execution_count": 132,
     "metadata": {
      "tags": []
     },
     "output_type": "execute_result"
    },
    {
     "data": {
      "image/png": "[encoded data removed]",
      "text/plain": [
       "<Figure size 864x720 with 1 Axes>"
      ]
     },
     "metadata": {
      "needs_background": "light",
      "tags": []
     },
     "output_type": "display_data"
    }
   ],
   "source": [
    "plt.figure(figsize = (12, 10))\n",
    "erros_2020_2021[erros_2020_2021[\"recipient_status\"].isin([\"inactive\", \"not_connected\"])].groupby([\"lost_reason_title\"]).recipient_status.count().sort_values().plot(kind = 'bar')"
   ]
  },
  {
   "cell_type": "markdown",
   "metadata": {
    "id": "LTjLpuVQ50dB"
   },
   "source": [
    "**E os valores absolutos:**"
   ]
  },
  {
   "cell_type": "code",
   "execution_count": 133,
   "metadata": {
    "colab": {
     "base_uri": "https://localhost:8080/"
    },
    "id": "Ff5GxLbQ53Cc",
    "outputId": "b1c870a3-7144-4748-9f22-6c06b59d1e83"
   },
   "outputs": [
    {
     "data": {
      "text/plain": [
       "lost_reason_title\n",
       "Abordado          11\n",
       "Blocklist        182\n",
       "Sem Conexão    49468\n",
       "Name: recipient_status, dtype: int64"
      ]
     },
     "execution_count": 133,
     "metadata": {
      "tags": []
     },
     "output_type": "execute_result"
    }
   ],
   "source": [
    "erros_2020_2021[erros_2020_2021[\"recipient_status\"].isin([\"inactive\", \"not_connected\"])].groupby([\"lost_reason_title\"]).recipient_status.count().sort_values()"
   ]
  },
  {
   "cell_type": "markdown",
   "metadata": {
    "id": "_F3eoYYy6BZb"
   },
   "source": [
    "#### Em relação ao total, abaixo está a distribuição dos motivos de perda dos contatos"
   ]
  },
  {
   "cell_type": "code",
   "execution_count": 134,
   "metadata": {
    "colab": {
     "base_uri": "https://localhost:8080/",
     "height": 682
    },
    "id": "oTR0DcZq6Cwv",
    "outputId": "4e8ddd3b-1f83-4a18-9039-ff415b3900ac"
   },
   "outputs": [
    {
     "data": {
      "text/plain": [
       "<matplotlib.axes._subplots.AxesSubplot at 0x7f7c7baecd10>"
      ]
     },
     "execution_count": 134,
     "metadata": {
      "tags": []
     },
     "output_type": "execute_result"
    },
    {
     "data": {
      "image/png": "[encoded data removed]",
      "text/plain": [
       "<Figure size 864x720 with 1 Axes>"
      ]
     },
     "metadata": {
      "needs_background": "light",
      "tags": []
     },
     "output_type": "display_data"
    }
   ],
   "source": [
    "plt.figure(figsize = (12, 10))\n",
    "erros_2020_2021.groupby([\"lost_reason_title\"]).recipient_status.count().sort_values().plot(kind = 'bar')"
   ]
  },
  {
   "cell_type": "markdown",
   "metadata": {
    "id": "IyNvPI-E6Ymv"
   },
   "source": [
    "**Em valores absolutos:**"
   ]
  },
  {
   "cell_type": "code",
   "execution_count": 136,
   "metadata": {
    "colab": {
     "base_uri": "https://localhost:8080/"
    },
    "id": "hb-VWhiT57Mz",
    "outputId": "1e4dd339-acb9-4123-e241-3f82bd0a7060"
   },
   "outputs": [
    {
     "data": {
      "text/plain": [
       "lost_reason_title\n",
       "Fora do Perfil       69\n",
       "Abordado            245\n",
       "Blocklist          1864\n",
       "Sem Conexão       49545\n",
       "Name: recipient_status, dtype: int64"
      ]
     },
     "execution_count": 136,
     "metadata": {
      "tags": []
     },
     "output_type": "execute_result"
    }
   ],
   "source": [
    "erros_2020_2021.groupby([\"lost_reason_title\"]).recipient_status.count().sort_values()"
   ]
  },
  {
   "cell_type": "code",
   "execution_count": 137,
   "metadata": {
    "id": "cnE4Ql_k6EwJ"
   },
   "outputs": [],
   "source": [
    "# Exportando o arquivo para excel\n",
    "erros_2020_2021.to_excel(\"/content/drive/MyDrive/Dados-Reev/erros_2018_2019.xlsx\")"
   ]
  }
 ],
 "metadata": {
  "colab": {
   "collapsed_sections": [],
   "name": "Relatorio_DadosReev.ipynb",
   "provenance": []
  },
  "kernelspec": {
   "display_name": "Python 3",
   "language": "python",
   "name": "python3"
  },
  "language_info": {
   "codemirror_mode": {
    "name": "ipython",
    "version": 3
   },
   "file_extension": ".py",
   "mimetype": "text/x-python",
   "name": "python",
   "nbconvert_exporter": "python",
   "pygments_lexer": "ipython3",
   "version": "3.8.5"
  }
 },
 "nbformat": 4,
 "nbformat_minor": 1
}
